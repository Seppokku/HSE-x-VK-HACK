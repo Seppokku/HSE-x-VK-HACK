{
 "cells":[
  {
   "cell_type":"markdown",
   "source":[
    "# Sheet"
   ],
   "attachments":{
    
   },
   "metadata":{
    "datalore":{
     "node_id":"Sheet",
     "type":"MD",
     "hide_input_from_viewers":false,
     "hide_output_from_viewers":false,
     "sheet_delimiter":true
    }
   }
  },
  {
   "cell_type":"code",
   "source":[
    "import clickhouse_connect\n",
    "import sys\n",
    "import json\n",
    "import pyarrow as pa\n",
    "import implicit\n",
    "import bisect\n",
    "import scipy\n",
    "import numpy as np\n",
    "import sklearn.metrics as m\n",
    "from catboost import CatBoostClassifier, CatBoostRegressor, Pool\n",
    "from sklearn.model_selection import train_test_split\n",
    "from sklearn.calibration import calibration_curve, CalibratedClassifierCV\n",
    "\n",
    "\n",
    "CLICKHOUSE_CLOUD_HOSTNAME = 'toxicus-vulpes.ru'\n",
    "CLICKHOUSE_CLOUD_USER = 'default'\n",
    "CLICKHOUSE_CLOUD_PASSWORD = ''\n",
    "client = clickhouse_connect.get_client(\n",
    "    host=CLICKHOUSE_CLOUD_HOSTNAME, port=18123, username=CLICKHOUSE_CLOUD_USER, password=CLICKHOUSE_CLOUD_PASSWORD)"
   ],
   "execution_count":1,
   "outputs":[
    
   ],
   "metadata":{
    "datalore":{
     "node_id":"8p73GAAcuimRcZMQ7DXe8X",
     "type":"CODE",
     "hide_input_from_viewers":true,
     "hide_output_from_viewers":true
    }
   }
  },
  {
   "cell_type":"code",
   "source":[
    "df_1 = client.query_df(\"\"\"\n",
    "SELECT user_id, referer, SUM(request_cnt_sum) as request_cnt_sum\n",
    "FROM (SELECT user_id, \n",
    "CAST(extractAll(referer, '\\d{1,20}')[1] AS INT) AS referer, \n",
    "count(timestamp) as request_cnt_sum \n",
    "FROM requests \n",
    "INNER JOIN train_users tu on tu.user_id = requests.user_id\n",
    "WHERE requests.referer != ''\n",
    "GROUP BY referer, user_id)\n",
    "GROUP BY user_id, referer\n",
    "\"\"\")"
   ],
   "execution_count":2,
   "outputs":[
    
   ],
   "metadata":{
    "datalore":{
     "node_id":"CZWzgXcDaDZpp926I7Lcsz",
     "type":"CODE",
     "hide_input_from_viewers":true,
     "hide_output_from_viewers":true
    }
   }
  },
  {
   "cell_type":"code",
   "source":[
    "df = df_1\n",
    "# df = df.append(df_2, ignore_index = True )"
   ],
   "execution_count":3,
   "outputs":[
    
   ],
   "metadata":{
    "datalore":{
     "node_id":"WwHGMYDrgHls9vd9twnCa4",
     "type":"CODE",
     "hide_input_from_viewers":true,
     "hide_output_from_viewers":true
    }
   }
  },
  {
   "cell_type":"code",
   "source":[
    "df.info()"
   ],
   "execution_count":4,
   "outputs":[
    {
     "name":"stdout",
     "text":[
      "<class 'pandas.core.frame.DataFrame'>\n",
      "RangeIndex: 20528762 entries, 0 to 20528761\n",
      "Data columns (total 3 columns):\n",
      " #   Column           Dtype \n",
      "---  ------           ----- \n",
      " 0   user_id          int32 \n",
      " 1   referer          int32 \n",
      " 2   request_cnt_sum  uint64\n",
      "dtypes: int32(2), uint64(1)\n",
      "memory usage: 313.2 MB\n"
     ],
     "output_type":"stream"
    }
   ],
   "metadata":{
    "datalore":{
     "node_id":"gd8XFyDI2wEhmkWo6DgmSU",
     "type":"CODE",
     "hide_input_from_viewers":true,
     "hide_output_from_viewers":true
    }
   }
  },
  {
   "cell_type":"code",
   "source":[
    "da = pa.Table.from_pandas(df)"
   ],
   "execution_count":5,
   "outputs":[
    
   ],
   "metadata":{
    "datalore":{
     "node_id":"jAMyp0saBrfWnBJ5QS9jbB",
     "type":"CODE",
     "hide_input_from_viewers":true,
     "hide_output_from_viewers":true
    }
   }
  },
  {
   "cell_type":"code",
   "source":[
    "url_set = set(da.select(['referer']).to_pandas()['referer'])\n",
    "print(f'{len(url_set)} urls')\n",
    "url_dict = {url: idurl for url, idurl in zip(url_set, range(len(url_set)))}\n",
    "usr_set = set(da.select(['user_id']).to_pandas()['user_id'])\n",
    "print(f'{len(usr_set)} users')\n",
    "usr_dict = {usr: user_id for usr, user_id in zip(usr_set, range(len(usr_set)))}"
   ],
   "execution_count":6,
   "outputs":[
    {
     "name":"stdout",
     "text":[
      "3369 urls\n",
      "4999877 users\n"
     ],
     "output_type":"stream"
    }
   ],
   "metadata":{
    "datalore":{
     "node_id":"Peh34z6pZq4dARdedx1tay",
     "type":"CODE",
     "hide_input_from_viewers":true,
     "hide_output_from_viewers":true
    }
   }
  },
  {
   "cell_type":"code",
   "source":[
    "values = np.array(da.select(['request_cnt_sum']).to_pandas()['request_cnt_sum'])\n",
    "rows = np.array(da.select(['user_id']).to_pandas()['user_id'].map(usr_dict))\n",
    "cols = np.array(da.select(['referer']).to_pandas()['referer'].map(url_dict))\n",
    "mat = scipy.sparse.coo_matrix((values, (rows, cols)), shape=(rows.max() + 1, cols.max() + 1))\n",
    "als = implicit.als.AlternatingLeastSquares(factors = 50)"
   ],
   "execution_count":7,
   "outputs":[
    {
     "name":"stderr",
     "text":[
      "\/opt\/python\/envs\/minimal\/lib\/python3.8\/site-packages\/implicit\/cpu\/als.py:95: RuntimeWarning: OpenBLAS is configured to use 12 threads. It is highly recommended to disable its internal threadpool by setting the environment variable 'OPENBLAS_NUM_THREADS=1' or by calling 'threadpoolctl.threadpool_limits(1, \"blas\")'. Having OpenBLAS use a threadpool can lead to severe performance issues here.\n",
      "  check_blas_config()\n"
     ],
     "output_type":"stream"
    }
   ],
   "metadata":{
    "datalore":{
     "node_id":"mXrMyXpAWxyN1NPxX6vz6p",
     "type":"CODE",
     "hide_input_from_viewers":true,
     "hide_output_from_viewers":true
    }
   }
  },
  {
   "cell_type":"code",
   "source":[
    "als.fit(mat)"
   ],
   "execution_count":23,
   "outputs":[
    {
     "name":"stderr",
     "text":[
      "\/opt\/python\/envs\/minimal\/lib\/python3.8\/site-packages\/implicit\/utils.py:164: ParameterWarning: Method expects CSR input, and was passed coo_matrix instead. Converting to CSR took 0.7240984439849854 seconds\n",
      "  warnings.warn(\n"
     ],
     "output_type":"stream"
    },
    {
     "data":{
      "application\/vnd.jupyter.widget-view+json":{
       "version_major":2,
       "version_minor":0,
       "model_id":"944278547bfc42a68b3c0f96f2f00920"
      }
     },
     "metadata":{
      "application\/vnd.jupyter.widget-view+json":{
       "datalore":{
        "widget_id":"kA3GmHEV2korpF9OWaCIrQ"
       }
      }
     },
     "output_type":"display_data"
    }
   ],
   "metadata":{
    "datalore":{
     "node_id":"zqMKKnjlGrfeTPO3s72HZS",
     "type":"CODE",
     "hide_input_from_viewers":true,
     "hide_output_from_viewers":true
    }
   }
  },
  {
   "cell_type":"code",
   "source":[
    "d_factors = als.item_factors"
   ],
   "execution_count":30,
   "outputs":[
    
   ],
   "metadata":{
    "datalore":{
     "node_id":"3hbYdEHEtiuxqErNd6K0Sv",
     "type":"CODE",
     "hide_input_from_viewers":true,
     "hide_output_from_viewers":true
    }
   }
  },
  {
   "cell_type":"code",
   "source":[
    "usr_targets = client.query_df(\"SELECT user_id, age, gender FROM default.train_users\")"
   ],
   "execution_count":31,
   "outputs":[
    
   ],
   "metadata":{
    "datalore":{
     "node_id":"zkL4NLEKQrmQWdwozzrnRr",
     "type":"CODE",
     "hide_input_from_viewers":true,
     "hide_output_from_viewers":true
    }
   }
  },
  {
   "cell_type":"code",
   "source":[
    "import pandas as pd\n",
    "inv_usr_map = {v: k for k, v in usr_dict.items()}\n",
    "usr_emb = pd.DataFrame(d_factors)\n",
    "usr_emb['user_id'] = usr_emb.index.map(inv_usr_map)"
   ],
   "execution_count":32,
   "outputs":[
    
   ],
   "metadata":{
    "datalore":{
     "node_id":"OaiKVipLAceAjiZCz10NJ6",
     "type":"CODE",
     "hide_input_from_viewers":true,
     "hide_output_from_viewers":true
    }
   }
  },
  {
   "cell_type":"code",
   "source":[
    "\n",
    "# usr_targets = targets.to_pandas()\n",
    "df = usr_targets.merge(usr_emb, how = 'inner', on = ['user_id'])\n",
    "df = df[df['gender'] != 'NA']\n",
    "df = df.dropna()\n",
    "df['gender'] = df['gender'].map(int)\n",
    "df['gender'].value_counts()"
   ],
   "execution_count":34,
   "outputs":[
    
   ],
   "metadata":{
    "datalore":{
     "node_id":"Ga6fgvhi5aOYaU2MWdbgob",
     "type":"CODE",
     "hide_input_from_viewers":true,
     "hide_output_from_viewers":true
    }
   }
  },
  {
   "cell_type":"code",
   "source":[
    "from sklearn.ensemble import RandomForestClassifier, ExtraTreesClassifier\n",
    "x_train, x_test, y_train, y_test = train_test_split( df.drop(['user_id', 'age', 'gender'], axis = 1), df['gender'], test_size = 0.33, random_state = 42)\n",
    "clf = RandomForestClassifier()\n",
    "\n",
    "clf.fit(x_train, y_train)\n",
    "print(f'GINI по полу {2 * m.accuracy_score(y_test, clf.predict(x_test)) - 1:2.3f}')"
   ],
   "execution_count":47,
   "outputs":[
    
   ],
   "metadata":{
    "datalore":{
     "node_id":"VOkBHicj1Vyek72p7vjnXF",
     "type":"CODE",
     "hide_input_from_viewers":true,
     "hide_output_from_viewers":true
    }
   }
  },
  {
   "cell_type":"code",
   "source":[
    "id_to_submit = df['user_id']\n",
    "id_to_submit = id_to_submit.to_frame()\n",
    "id_to_submit.info()"
   ],
   "execution_count":48,
   "outputs":[
    
   ],
   "metadata":{
    "datalore":{
     "node_id":"CwuDL0dbuwzU71IIBg9LOh",
     "type":"CODE",
     "hide_input_from_viewers":true,
     "hide_output_from_viewers":true
    }
   }
  },
  {
   "cell_type":"code",
   "source":[
    "id_ts = id_to_submit.merge(usr_emb, how = 'left', on = ['user_id'])\n",
    "id_ts.columns = map(lambda x: str(x), id_ts.columns)\n",
    "len(clf.predict(id_ts.drop(columns=['user_id'])))"
   ],
   "execution_count":49,
   "outputs":[
    
   ],
   "metadata":{
    "datalore":{
     "node_id":"Xena1v8eqB2yajBpTHyIRa",
     "type":"CODE",
     "hide_input_from_viewers":true,
     "hide_output_from_viewers":true
    }
   }
  },
  {
   "cell_type":"code",
   "source":[
    "id_to_submit['gender'] = clf.predict(id_ts.drop(columns=['user_id']))"
   ],
   "execution_count":50,
   "outputs":[
    
   ],
   "metadata":{
    "datalore":{
     "node_id":"TQfjTad1IfG9fvdD2aXh3x",
     "type":"CODE",
     "hide_input_from_viewers":true,
     "hide_output_from_viewers":true
    }
   }
  },
  {
   "cell_type":"code",
   "source":[
    "id_to_submit"
   ],
   "execution_count":51,
   "outputs":[
    
   ],
   "metadata":{
    "datalore":{
     "node_id":"WLQNVqaf2lBPNW7yRfmelX",
     "type":"CODE",
     "hide_input_from_viewers":true,
     "hide_output_from_viewers":true
    }
   }
  },
  {
   "cell_type":"code",
   "source":[
    "from sklearn.metrics import accuracy_score\n",
    "\n",
    "accuracy_score(df['gender'], id_to_submit['gender'])"
   ],
   "execution_count":52,
   "outputs":[
    
   ],
   "metadata":{
    "datalore":{
     "node_id":"z6hYFBBG0W8GLggJ9G3tQI",
     "type":"CODE",
     "hide_input_from_viewers":true,
     "hide_output_from_viewers":true
    }
   }
  },
  {
   "cell_type":"code",
   "source":[
    "from lazypredict.Supervised import LazyClassifier\n",
    "from sklearn.ensemble import RandomForestClassifier, ExtraTreesClassifier\n",
    "from sklearn.neighbors import KNeighborsClassifier\n",
    "from sklearn.semi_supervised import LabelSpreading\n",
    "from xgboost import XGBClassifier\n",
    "\n",
    "clf = LazyClassifier(verbose=0,ignore_warnings=True, custom_metric=None, classifiers=[RandomForestClassifier, XGBClassifier, \n",
    "                                                                                      ExtraTreesClassifier, LabelSpreading, \n",
    "                                                                                      KNeighborsClassifier, CatBoostClassifier])\n",
    "models,predictions = clf.fit(x_train, x_test, y_train, y_test)\n",
    "models"
   ],
   "execution_count":45,
   "outputs":[
    
   ],
   "metadata":{
    "datalore":{
     "node_id":"AyUQtbWsbIJx8T6sXRy4UC",
     "type":"CODE",
     "hide_input_from_viewers":true,
     "hide_output_from_viewers":true
    }
   }
  },
  {
   "cell_type":"code",
   "source":[
    "models.to_csv(\"\/data\/notebook_files\/models.csv\")"
   ],
   "execution_count":53,
   "outputs":[
    
   ],
   "metadata":{
    "datalore":{
     "node_id":"t3cXgFqz8MxQfIw6ORhy5p",
     "type":"CODE",
     "hide_input_from_viewers":true,
     "hide_output_from_viewers":true
    }
   }
  },
  {
   "cell_type":"code",
   "source":[
    "clf.feature_importances_"
   ],
   "execution_count":55,
   "outputs":[
    
   ],
   "metadata":{
    "datalore":{
     "node_id":"RwkGhdSVwmhdX6L7FsEtZy",
     "type":"CODE",
     "hide_input_from_viewers":true,
     "hide_output_from_viewers":true
    }
   }
  },
  {
   "cell_type":"code",
   "source":[
    
   ],
   "execution_count":null,
   "outputs":[
    
   ],
   "metadata":{
    "datalore":{
     "node_id":"E30XM5hewUplkpBOAt4AaZ",
     "type":"CODE",
     "hide_input_from_viewers":true,
     "hide_output_from_viewers":true
    }
   }
  },
  {
   "cell_type":"markdown",
   "source":[
    "# Sheet 2"
   ],
   "attachments":{
    
   },
   "metadata":{
    "datalore":{
     "node_id":"Sheet 2",
     "type":"MD",
     "hide_input_from_viewers":false,
     "hide_output_from_viewers":false,
     "sheet_delimiter":true
    }
   }
  },
  {
   "cell_type":"code",
   "source":[
    "# usr_with_gender = id_ts.merge(id_to_submit, how = 'left', on = ['user_id'])"
   ],
   "execution_count":62,
   "outputs":[
    
   ],
   "metadata":{
    "datalore":{
     "node_id":"L86skkRVz7UVmiEg1388Sf",
     "type":"CODE",
     "hide_input_from_viewers":true,
     "hide_output_from_viewers":true
    }
   }
  },
  {
   "cell_type":"code",
   "source":[
    "x_train, x_test, y_train, y_test = train_test_split( df.drop(['user_id', 'age', 'gender'], axis = 1), df['age'], test_size = 0.33, random_state = 42)\n",
    "regr = CatBoostRegressor()\n",
    "\n",
    "regr.fit(x_train, y_train, verbose=False)\n",
    "\n",
    "print(f'GINI по возрасту {2 * m.accuracy_score(y_test, regr.predict(x_test).round()) - 1:2.3f}')"
   ],
   "execution_count":81,
   "outputs":[
    
   ],
   "metadata":{
    "datalore":{
     "node_id":"lSnOXbYc92IMFWEY68wRL3",
     "type":"CODE",
     "hide_input_from_viewers":true,
     "hide_output_from_viewers":true
    }
   }
  },
  {
   "cell_type":"code",
   "source":[
    "id_to_submit['age'] = regr.predict(id_ts.drop(columns=['user_id'])).round()"
   ],
   "execution_count":82,
   "outputs":[
    
   ],
   "metadata":{
    "datalore":{
     "node_id":"K65I13b9oWH5hA9wxCUk0h",
     "type":"CODE",
     "hide_input_from_viewers":true,
     "hide_output_from_viewers":true
    }
   }
  },
  {
   "cell_type":"code",
   "source":[
    "from sklearn.metrics import mean_absolute_error\n",
    "\n",
    "mean_absolute_error(df['age'], id_to_submit['age'])"
   ],
   "execution_count":83,
   "outputs":[
    
   ],
   "metadata":{
    "datalore":{
     "node_id":"LKzCRoyBPhg1mT3e6fGl7w",
     "type":"CODE",
     "hide_input_from_viewers":true,
     "hide_output_from_viewers":true
    }
   }
  },
  {
   "cell_type":"code",
   "source":[
    "from lazypredict.Supervised import LazyRegressor\n",
    "from sklearn.linear_model import ElasticNet, BayesianRidge, LassoLarsCV, LassoLarsIC\n",
    "from sklearn.svm import SVR\n",
    "\n",
    "regr = LazyRegressor(verbose=0,ignore_warnings=True, regressors=[SVR, ElasticNet, BayesianRidge, \n",
    "                                                                 LassoLarsCV, LassoLarsIC, \n",
    "                                                                 CatBoostRegressor], custom_metric=mean_absolute_error)\n",
    "models,predictions = regr.fit(x_train, x_test, y_train, y_test)\n",
    "models"
   ],
   "execution_count":70,
   "outputs":[
    
   ],
   "metadata":{
    "datalore":{
     "node_id":"xjPyZ1UrTMqmetVz4tmbeP",
     "type":"CODE",
     "hide_input_from_viewers":true,
     "hide_output_from_viewers":true
    }
   }
  },
  {
   "cell_type":"code",
   "source":[
    "models.to_csv(\"\/data\/notebook_files\/models.csv\")"
   ],
   "execution_count":71,
   "outputs":[
    
   ],
   "metadata":{
    "datalore":{
     "node_id":"y8BkJhEaf6liiWxOde3vYe",
     "type":"CODE",
     "hide_input_from_viewers":true,
     "hide_output_from_viewers":true
    }
   }
  },
  {
   "cell_type":"markdown",
   "source":[
    "# Sheet 3"
   ],
   "attachments":{
    
   },
   "metadata":{
    "datalore":{
     "node_id":"Sheet 3",
     "type":"MD",
     "hide_input_from_viewers":false,
     "hide_output_from_viewers":false,
     "sheet_delimiter":true
    }
   }
  },
  {
   "cell_type":"code",
   "source":[
    "client.insert_df('test_users', pd.read_csv(\"\/data\/notebook_files\/test_users.csv\"))"
   ],
   "execution_count":85,
   "outputs":[
    
   ],
   "metadata":{
    "datalore":{
     "node_id":"QDicL6k53HM4NAjAdgYaxj",
     "type":"CODE",
     "hide_input_from_viewers":true,
     "hide_output_from_viewers":true
    }
   }
  },
  {
   "cell_type":"code",
   "source":[
    "select * from test_users"
   ],
   "execution_count":86,
   "outputs":[
    
   ],
   "metadata":{
    "datalore":{
     "node_id":"rQ3pGHqYYDkf148JxIi8rH",
     "type":"SQL",
     "hide_input_from_viewers":true,
     "hide_output_from_viewers":true,
     "sql_cell_properties":{
      "dbId":"ziUFfmOHgEWjIsqTrmcebM",
      "variableName":"df_3",
      "dialect":"clickhouse"
     }
    }
   }
  },
  {
   "cell_type":"code",
   "source":[
    
   ],
   "execution_count":null,
   "outputs":[
    
   ],
   "metadata":{
    "datalore":{
     "node_id":"nLeUKWst55PnoUikQjbug7",
     "type":"CODE",
     "hide_input_from_viewers":true,
     "hide_output_from_viewers":true
    }
   }
  },
  {
   "cell_type":"markdown",
   "source":[
    "# Sheet 4"
   ],
   "attachments":{
    
   },
   "metadata":{
    "datalore":{
     "node_id":"Sheet 4",
     "type":"MD",
     "hide_input_from_viewers":false,
     "hide_output_from_viewers":false,
     "sheet_delimiter":true
    }
   }
  },
  {
   "cell_type":"code",
   "source":[
    "df_1 = client.query_df(\"\"\"\n",
    "SELECT user_id, referer, SUM(request_cnt_sum) as request_cnt_sum\n",
    "FROM (SELECT user_id, \n",
    "CAST(extractAll(referer, '\\d{1,20}')[1] AS INT) AS referer, \n",
    "count(timestamp) as request_cnt_sum \n",
    "FROM requests \n",
    "INNER JOIN test_users tu on tu.user_id = requests.user_id\n",
    "WHERE requests.referer != ''\n",
    "GROUP BY referer, user_id)\n",
    "GROUP BY user_id, referer\n",
    "\"\"\")\n",
    "df = df_1"
   ],
   "execution_count":88,
   "outputs":[
    
   ],
   "metadata":{
    "datalore":{
     "node_id":"8YXlwIL7pThiIrv95D9c9N",
     "type":"CODE",
     "hide_input_from_viewers":true,
     "hide_output_from_viewers":true
    }
   }
  },
  {
   "cell_type":"code",
   "source":[
    "da = pa.Table.from_pandas(df)\n",
    "url_set = set(da.select(['referer']).to_pandas()['referer'])\n",
    "print(f'{len(url_set)} urls')\n",
    "url_dict = {url: idurl for url, idurl in zip(url_set, range(len(url_set)))}\n",
    "usr_set = set(da.select(['user_id']).to_pandas()['user_id'])\n",
    "print(f'{len(usr_set)} users')\n",
    "usr_dict = {usr: user_id for usr, user_id in zip(usr_set, range(len(usr_set)))}"
   ],
   "execution_count":89,
   "outputs":[
    
   ],
   "metadata":{
    "datalore":{
     "node_id":"owaDLv1qco1BWVn4JAvJW7",
     "type":"CODE",
     "hide_input_from_viewers":true,
     "hide_output_from_viewers":true
    }
   }
  },
  {
   "cell_type":"code",
   "source":[
    "values = np.array(da.select(['request_cnt_sum']).to_pandas()['request_cnt_sum'])\n",
    "rows = np.array(da.select(['user_id']).to_pandas()['user_id'].map(usr_dict))\n",
    "cols = np.array(da.select(['referer']).to_pandas()['referer'].map(url_dict))\n",
    "mat = scipy.sparse.coo_matrix((values, (rows, cols)), shape=(rows.max() + 1, cols.max() + 1))\n",
    "als = implicit.als.AlternatingLeastSquares(factors = 50)"
   ],
   "execution_count":90,
   "outputs":[
    
   ],
   "metadata":{
    "datalore":{
     "node_id":"QtU8JNfcpdbNnt5ULK1QdJ",
     "type":"CODE",
     "hide_input_from_viewers":true,
     "hide_output_from_viewers":true
    }
   }
  },
  {
   "cell_type":"code",
   "source":[
    "als.fit(mat)"
   ],
   "execution_count":91,
   "outputs":[
    
   ],
   "metadata":{
    "datalore":{
     "node_id":"QDAauYONBIV1VxfiQ5Yt3k",
     "type":"CODE",
     "hide_input_from_viewers":true,
     "hide_output_from_viewers":true
    }
   }
  },
  {
   "cell_type":"code",
   "source":[
    "d_factors = als.item_factors"
   ],
   "execution_count":92,
   "outputs":[
    
   ],
   "metadata":{
    "datalore":{
     "node_id":"ppUWKodIGxpVp0yPPOcWVN",
     "type":"CODE",
     "hide_input_from_viewers":true,
     "hide_output_from_viewers":true
    }
   }
  },
  {
   "cell_type":"code",
   "source":[
    "usr_targets = client.query_df(\"SELECT user_id FROM default.test_users\")"
   ],
   "execution_count":93,
   "outputs":[
    
   ],
   "metadata":{
    "datalore":{
     "node_id":"hMDFf4OgLxwmxFa4rkrLHa",
     "type":"CODE",
     "hide_input_from_viewers":true,
     "hide_output_from_viewers":true
    }
   }
  },
  {
   "cell_type":"code",
   "source":[
    "import pandas as pd\n",
    "inv_usr_map = {v: k for k, v in usr_dict.items()}\n",
    "usr_emb = pd.DataFrame(d_factors)\n",
    "usr_emb['user_id'] = usr_emb.index.map(inv_usr_map)"
   ],
   "execution_count":94,
   "outputs":[
    
   ],
   "metadata":{
    "datalore":{
     "node_id":"5cr8UtVC2lHEYgUu6Q6ym0",
     "type":"CODE",
     "hide_input_from_viewers":true,
     "hide_output_from_viewers":true
    }
   }
  },
  {
   "cell_type":"code",
   "source":[
    "id_to_submit['gender'] = clf.predict(usr_emb.drop(columns=['user_id']))\n",
    "id_to_submit['age'] = regr.predict(usr_emb.drop(columns=['user_id'])).round()"
   ],
   "execution_count":null,
   "outputs":[
    
   ],
   "metadata":{
    "datalore":{
     "node_id":"ORSxBCrW1c5Xi5bZpIrVre",
     "type":"CODE",
     "hide_input_from_viewers":true,
     "hide_output_from_viewers":true
    }
   }
  },
  {
   "cell_type":"code",
   "source":[
    
   ],
   "execution_count":null,
   "outputs":[
    
   ],
   "metadata":{
    "datalore":{
     "node_id":"liVJChw9pWXDCygj6BMMY7",
     "type":"CODE",
     "hide_input_from_viewers":true,
     "hide_output_from_viewers":true
    }
   }
  }
 ],
 "metadata":{
  "kernelspec":{
   "display_name":"Python",
   "language":"python",
   "name":"python"
  },
  "datalore":{
   "computation_mode":"JUPYTER",
   "package_manager":"pip",
   "base_environment":"minimal",
   "packages":[
    {
     "name":"clickhouse-connect",
     "source":"PIP"
    },
    {
     "name":"pyarrow",
     "version":"15.0.2",
     "source":"PIP"
    },
    {
     "name":"implicit",
     "version":"0.7.2",
     "source":"PIP"
    },
    {
     "name":"catboost",
     "version":"1.2.5",
     "source":"PIP"
    },
    {
     "name":"lazypredict",
     "version":"0.2.12",
     "source":"PIP"
    }
   ],
   "report_row_ids":[
    
   ],
   "version":3
  }
 },
 "nbformat":4,
 "nbformat_minor":4
}